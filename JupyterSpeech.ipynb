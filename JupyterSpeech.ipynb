{
 "cells": [
  {
   "cell_type": "code",
   "execution_count": 45,
   "metadata": {},
   "outputs": [],
   "source": [
    "import soundfile\n",
    "import numpy as np\n",
    "import librosa\n",
    "import glob\n",
    "import os\n",
    "import pickle\n",
    "from sklearn.model_selection import train_test_split\n",
    "from sklearn.neural_network import MLPClassifier\n",
    "from sklearn.metrics import accuracy_score"
   ]
  },
  {
   "cell_type": "code",
   "execution_count": 46,
   "metadata": {},
   "outputs": [],
   "source": [
    "def extract_feature(file_name, **kwargs):\n",
    "    mfcc = kwargs.get(\"mfcc\")\n",
    "    chroma = kwargs.get(\"chroma\")\n",
    "    mel = kwargs.get(\"mel\")\n",
    "    contrast = kwargs.get(\"contrast\")\n",
    "    tonnetz = kwargs.get(\"tonnetz\")\n",
    "    with soundfile.SoundFile(file_name) as sound_file:\n",
    "        X = sound_file.read(dtype=\"float32\")\n",
    "        sample_rate = sound_file.samplerate\n",
    "        if chroma or contrast:\n",
    "            stft = np.abs(librosa.stft(X))\n",
    "        result = np.array([])\n",
    "        if mfcc:\n",
    "            mfccs = np.mean(librosa.feature.mfcc(y=X, sr=sample_rate, n_mfcc=40).T, axis=0)\n",
    "            result = np.hstack((result, mfccs))\n",
    "        if chroma:\n",
    "            chroma = np.mean(librosa.feature.chroma_stft(S=stft, sr=sample_rate).T,axis=0)\n",
    "            result = np.hstack((result, chroma))\n",
    "        if mel:\n",
    "            mel = np.mean(librosa.feature.melspectrogram(X, sr=sample_rate).T,axis=0)\n",
    "            result = np.hstack((result, mel))\n",
    "        if contrast:\n",
    "            contrast = np.mean(librosa.feature.spectral_contrast(S=stft, sr=sample_rate).T,axis=0)\n",
    "            result = np.hstack((result, contrast))\n",
    "        if tonnetz:\n",
    "            tonnetz = np.mean(librosa.feature.tonnetz(y=librosa.effects.harmonic(X), sr=sample_rate).T,axis=0)\n",
    "            result = np.hstack((result, tonnetz))\n",
    "    return result"
   ]
  },
  {
   "cell_type": "code",
   "execution_count": 47,
   "metadata": {},
   "outputs": [],
   "source": [
    "int2emotion = {\n",
    "    \"01\": \"neutral\",\n",
    "    \"02\": \"calm\",\n",
    "    \"03\": \"happy\",\n",
    "    \"04\": \"sad\",\n",
    "    \"05\": \"angry\",\n",
    "    \"06\": \"fearful\",\n",
    "    \"07\": \"disgust\",\n",
    "    \"08\": \"surprised\"\n",
    "}\n",
    "\n",
    "AVAILABLE_EMOTIONS = {\n",
    "    \"angry\",\n",
    "    \"sad\",\n",
    "    \"neutral\",\n",
    "    \"happy\"\n",
    "}"
   ]
  },
  {
   "cell_type": "code",
   "execution_count": 48,
   "metadata": {},
   "outputs": [],
   "source": [
    "def load_data(test_size=0.2):\n",
    "    X, y = [], []\n",
    "    for file in glob.glob(\"D:\\\\DataFlair\\\\ravdess data\\\\Actor_*/*.wav\"):\n",
    "        basename = os.path.basename(file)\n",
    "        emotion = int2emotion[basename.split(\"-\")[2]]\n",
    "        if emotion not in AVAILABLE_EMOTIONS:\n",
    "            continue\n",
    "        features = extract_feature(file, mfcc=True, chroma=True, mel=True)\n",
    "        X.append(features)\n",
    "        y.append(emotion)\n",
    "    return train_test_split(np.array(X), y, test_size=test_size, random_state=7)"
   ]
  },
  {
   "cell_type": "code",
   "execution_count": 49,
   "metadata": {},
   "outputs": [],
   "source": [
    "X_train, X_test, y_train, y_test = load_data(test_size=0.25)"
   ]
  },
  {
   "cell_type": "code",
   "execution_count": 50,
   "metadata": {},
   "outputs": [
    {
     "name": "stdout",
     "output_type": "stream",
     "text": [
      "[+] Number of training samples: 504\n",
      "[+] Number of testing samples: 168\n",
      "[+] Number of features: 180\n"
     ]
    }
   ],
   "source": [
    "print(\"[+] Number of training samples:\", X_train.shape[0])\n",
    "print(\"[+] Number of testing samples:\", X_test.shape[0])\n",
    "print(\"[+] Number of features:\", X_train.shape[1])\n"
   ]
  },
  {
   "cell_type": "code",
   "execution_count": 51,
   "metadata": {},
   "outputs": [],
   "source": [
    "model_params = {\n",
    "    'alpha': 0.01,\n",
    "    'batch_size': 256,\n",
    "    'epsilon': 1e-08, \n",
    "    'hidden_layer_sizes': (300,), \n",
    "    'learning_rate': 'adaptive', \n",
    "    'max_iter': 500, \n",
    "}"
   ]
  },
  {
   "cell_type": "code",
   "execution_count": 52,
   "metadata": {},
   "outputs": [],
   "source": [
    "model = MLPClassifier(**model_params)"
   ]
  },
  {
   "cell_type": "code",
   "execution_count": 53,
   "metadata": {},
   "outputs": [
    {
     "name": "stdout",
     "output_type": "stream",
     "text": [
      "[*] Training the model...\n"
     ]
    },
    {
     "name": "stderr",
     "output_type": "stream",
     "text": [
      "C:\\Program Files\\Anaconda3\\lib\\site-packages\\sklearn\\neural_network\\multilayer_perceptron.py:566: ConvergenceWarning: Stochastic Optimizer: Maximum iterations (500) reached and the optimization hasn't converged yet.\n",
      "  % self.max_iter, ConvergenceWarning)\n"
     ]
    },
    {
     "data": {
      "text/plain": [
       "MLPClassifier(activation='relu', alpha=0.01, batch_size=256, beta_1=0.9,\n",
       "              beta_2=0.999, early_stopping=False, epsilon=1e-08,\n",
       "              hidden_layer_sizes=(300,), learning_rate='adaptive',\n",
       "              learning_rate_init=0.001, max_iter=500, momentum=0.9,\n",
       "              n_iter_no_change=10, nesterovs_momentum=True, power_t=0.5,\n",
       "              random_state=None, shuffle=True, solver='adam', tol=0.0001,\n",
       "              validation_fraction=0.1, verbose=False, warm_start=False)"
      ]
     },
     "execution_count": 53,
     "metadata": {},
     "output_type": "execute_result"
    }
   ],
   "source": [
    "print(\"[*] Training the model...\")\n",
    "model.fit(X_train, y_train)"
   ]
  },
  {
   "cell_type": "code",
   "execution_count": 54,
   "metadata": {},
   "outputs": [
    {
     "name": "stdout",
     "output_type": "stream",
     "text": [
      "Text Data:  [[-4.84017059e+02  3.35188069e+01 -4.27565667e+00 ...  3.55753631e-03\n",
      "   1.79984688e-03  1.16297302e-03]\n",
      " [-4.35545203e+02  3.20185715e+01  5.38026750e-01 ...  1.10966379e-03\n",
      "   1.26860222e-03  5.66523828e-04]\n",
      " [-5.25702263e+02  4.09430383e+01 -2.43137723e+01 ...  4.92032607e-05\n",
      "   2.16024488e-05  1.82958245e-05]\n",
      " ...\n",
      " [-2.88720480e+02  1.47543712e+01 -1.99646873e+01 ...  1.33129519e-02\n",
      "   8.80587188e-03  7.19241115e-03]\n",
      " [-6.97362436e+02  6.87248920e+01  8.32315180e+00 ...  2.19207354e-06\n",
      "   1.73332923e-06  1.36195189e-06]\n",
      " [-5.51417047e+02  3.36983079e+01 -1.56172817e+01 ...  3.57153356e-04\n",
      "   2.09038457e-04  1.31212363e-04]]\n",
      "Output Data:  ['happy' 'angry' 'happy' 'sad' 'happy' 'angry' 'angry' 'angry' 'angry'\n",
      " 'happy' 'sad' 'neutral' 'sad' 'neutral' 'sad' 'neutral' 'sad' 'angry'\n",
      " 'sad' 'sad' 'happy' 'happy' 'sad' 'happy' 'sad' 'happy' 'angry' 'angry'\n",
      " 'neutral' 'angry' 'sad' 'sad' 'happy' 'angry' 'neutral' 'sad' 'sad'\n",
      " 'happy' 'sad' 'neutral' 'sad' 'happy' 'happy' 'sad' 'angry' 'sad' 'happy'\n",
      " 'neutral' 'sad' 'happy' 'sad' 'sad' 'angry' 'happy' 'happy' 'angry'\n",
      " 'angry' 'happy' 'angry' 'angry' 'neutral' 'happy' 'sad' 'sad' 'happy'\n",
      " 'neutral' 'neutral' 'angry' 'happy' 'angry' 'happy' 'happy' 'sad' 'angry'\n",
      " 'angry' 'angry' 'angry' 'happy' 'sad' 'happy' 'sad' 'sad' 'happy' 'angry'\n",
      " 'sad' 'sad' 'sad' 'sad' 'sad' 'angry' 'sad' 'neutral' 'sad' 'angry'\n",
      " 'happy' 'angry' 'angry' 'sad' 'sad' 'happy' 'neutral' 'sad' 'angry'\n",
      " 'happy' 'sad' 'angry' 'angry' 'angry' 'angry' 'sad' 'angry' 'sad' 'angry'\n",
      " 'happy' 'sad' 'sad' 'happy' 'angry' 'happy' 'happy' 'sad' 'happy'\n",
      " 'neutral' 'sad' 'happy' 'neutral' 'angry' 'sad' 'angry' 'angry' 'angry'\n",
      " 'angry' 'sad' 'angry' 'happy' 'angry' 'angry' 'angry' 'angry' 'angry'\n",
      " 'sad' 'angry' 'sad' 'happy' 'happy' 'sad' 'happy' 'happy' 'angry' 'happy'\n",
      " 'happy' 'sad' 'angry' 'sad' 'angry' 'sad' 'angry' 'happy' 'neutral'\n",
      " 'angry' 'neutral' 'neutral' 'angry' 'angry' 'happy' 'angry' 'sad' 'angry']\n"
     ]
    }
   ],
   "source": [
    "y_pred = model.predict(X_test)\n",
    "print(\"Text Data: \",X_test)\n",
    "print(\"Output Data: \",y_pred)"
   ]
  },
  {
   "cell_type": "code",
   "execution_count": 55,
   "metadata": {},
   "outputs": [
    {
     "name": "stdout",
     "output_type": "stream",
     "text": [
      "Accuracy: 77.38%\n"
     ]
    }
   ],
   "source": [
    "accuracy = accuracy_score(y_true=y_test, y_pred=y_pred)\n",
    "\n",
    "print(\"Accuracy: {:.2f}%\".format(accuracy*100))"
   ]
  },
  {
   "cell_type": "code",
   "execution_count": 56,
   "metadata": {},
   "outputs": [],
   "source": [
    "if not os.path.isdir(\"result\"):\n",
    "    os.mkdir(\"result\")\n",
    "\n",
    "pickle.dump(model, open(\"result/mlp_classifier.model\", \"wb\"))"
   ]
  },
  {
   "cell_type": "code",
   "execution_count": null,
   "metadata": {},
   "outputs": [],
   "source": []
  }
 ],
 "metadata": {
  "kernelspec": {
   "display_name": "Python 3.7.3 64-bit ('base': conda)",
   "language": "python",
   "name": "python37364bitbaseconda327619bdd6424db5bb66b1e93b0e1280"
  },
  "language_info": {
   "codemirror_mode": {
    "name": "ipython",
    "version": 3
   },
   "file_extension": ".py",
   "mimetype": "text/x-python",
   "name": "python",
   "nbconvert_exporter": "python",
   "pygments_lexer": "ipython3",
   "version": "3.7.3"
  }
 },
 "nbformat": 4,
 "nbformat_minor": 2
}
